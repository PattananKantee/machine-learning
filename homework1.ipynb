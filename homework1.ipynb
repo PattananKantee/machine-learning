{
 "cells": [
  {
   "cell_type": "code",
   "execution_count": 244,
   "metadata": {},
   "outputs": [
    {
     "name": "stdout",
     "output_type": "stream",
     "text": [
      "Requirement already satisfied: pandas in ./.venv/lib/python3.10/site-packages (2.2.2)\n",
      "Requirement already satisfied: numpy>=1.22.4 in ./.venv/lib/python3.10/site-packages (from pandas) (2.0.0)\n",
      "Requirement already satisfied: python-dateutil>=2.8.2 in ./.venv/lib/python3.10/site-packages (from pandas) (2.9.0.post0)\n",
      "Requirement already satisfied: pytz>=2020.1 in ./.venv/lib/python3.10/site-packages (from pandas) (2024.1)\n",
      "Requirement already satisfied: tzdata>=2022.7 in ./.venv/lib/python3.10/site-packages (from pandas) (2024.1)\n",
      "Requirement already satisfied: six>=1.5 in ./.venv/lib/python3.10/site-packages (from python-dateutil>=2.8.2->pandas) (1.16.0)\n",
      "Note: you may need to restart the kernel to use updated packages.\n"
     ]
    }
   ],
   "source": [
    "pip install pandas"
   ]
  },
  {
   "cell_type": "code",
   "execution_count": 245,
   "metadata": {},
   "outputs": [],
   "source": [
    "import pandas as pd"
   ]
  },
  {
   "cell_type": "code",
   "execution_count": 246,
   "metadata": {},
   "outputs": [],
   "source": [
    "df = pd.read_csv(\"tested.csv\")\n"
   ]
  },
  {
   "cell_type": "markdown",
   "metadata": {},
   "source": []
  },
  {
   "cell_type": "markdown",
   "metadata": {},
   "source": [
    "# Titanic Datasets #\n",
    "\n",
    "ชุดข้อมูลชุดนี้เป็นที่นิยมสำหรับการวิเคราะห์ข้อมูลและเรียนรู้ของเครื่องจักร มีข้อมูลเกี่ยวกับผู้โดยสารบนเรือ Titanic ซึ่งรวมถึงลักษณะเช่น อายุ เพศ ค่าโดยสาร ห้องนอน และสถานะการรอดชีวิต เราจะทำการวิเคราะห์ข้อมูลเชิงลึก (Exploratory Data Analysis, EDA) ในชุดข้อมูล Titanic โดยใช้ Python ในโครงการนี้ \n"
   ]
  },
  {
   "cell_type": "code",
   "execution_count": 247,
   "metadata": {},
   "outputs": [
    {
     "data": {
      "text/html": [
       "<div>\n",
       "<style scoped>\n",
       "    .dataframe tbody tr th:only-of-type {\n",
       "        vertical-align: middle;\n",
       "    }\n",
       "\n",
       "    .dataframe tbody tr th {\n",
       "        vertical-align: top;\n",
       "    }\n",
       "\n",
       "    .dataframe thead th {\n",
       "        text-align: right;\n",
       "    }\n",
       "</style>\n",
       "<table border=\"1\" class=\"dataframe\">\n",
       "  <thead>\n",
       "    <tr style=\"text-align: right;\">\n",
       "      <th></th>\n",
       "      <th>PassengerId</th>\n",
       "      <th>Survived</th>\n",
       "      <th>Pclass</th>\n",
       "      <th>Name</th>\n",
       "      <th>Sex</th>\n",
       "      <th>Age</th>\n",
       "      <th>SibSp</th>\n",
       "      <th>Parch</th>\n",
       "      <th>Ticket</th>\n",
       "      <th>Fare</th>\n",
       "      <th>Cabin</th>\n",
       "      <th>Embarked</th>\n",
       "    </tr>\n",
       "  </thead>\n",
       "  <tbody>\n",
       "    <tr>\n",
       "      <th>0</th>\n",
       "      <td>892</td>\n",
       "      <td>0</td>\n",
       "      <td>3</td>\n",
       "      <td>Kelly, Mr. James</td>\n",
       "      <td>male</td>\n",
       "      <td>34.5</td>\n",
       "      <td>0</td>\n",
       "      <td>0</td>\n",
       "      <td>330911</td>\n",
       "      <td>7.8292</td>\n",
       "      <td>NaN</td>\n",
       "      <td>Q</td>\n",
       "    </tr>\n",
       "    <tr>\n",
       "      <th>1</th>\n",
       "      <td>893</td>\n",
       "      <td>1</td>\n",
       "      <td>3</td>\n",
       "      <td>Wilkes, Mrs. James (Ellen Needs)</td>\n",
       "      <td>female</td>\n",
       "      <td>47.0</td>\n",
       "      <td>1</td>\n",
       "      <td>0</td>\n",
       "      <td>363272</td>\n",
       "      <td>7.0000</td>\n",
       "      <td>NaN</td>\n",
       "      <td>S</td>\n",
       "    </tr>\n",
       "    <tr>\n",
       "      <th>2</th>\n",
       "      <td>894</td>\n",
       "      <td>0</td>\n",
       "      <td>2</td>\n",
       "      <td>Myles, Mr. Thomas Francis</td>\n",
       "      <td>male</td>\n",
       "      <td>62.0</td>\n",
       "      <td>0</td>\n",
       "      <td>0</td>\n",
       "      <td>240276</td>\n",
       "      <td>9.6875</td>\n",
       "      <td>NaN</td>\n",
       "      <td>Q</td>\n",
       "    </tr>\n",
       "    <tr>\n",
       "      <th>3</th>\n",
       "      <td>895</td>\n",
       "      <td>0</td>\n",
       "      <td>3</td>\n",
       "      <td>Wirz, Mr. Albert</td>\n",
       "      <td>male</td>\n",
       "      <td>27.0</td>\n",
       "      <td>0</td>\n",
       "      <td>0</td>\n",
       "      <td>315154</td>\n",
       "      <td>8.6625</td>\n",
       "      <td>NaN</td>\n",
       "      <td>S</td>\n",
       "    </tr>\n",
       "    <tr>\n",
       "      <th>4</th>\n",
       "      <td>896</td>\n",
       "      <td>1</td>\n",
       "      <td>3</td>\n",
       "      <td>Hirvonen, Mrs. Alexander (Helga E Lindqvist)</td>\n",
       "      <td>female</td>\n",
       "      <td>22.0</td>\n",
       "      <td>1</td>\n",
       "      <td>1</td>\n",
       "      <td>3101298</td>\n",
       "      <td>12.2875</td>\n",
       "      <td>NaN</td>\n",
       "      <td>S</td>\n",
       "    </tr>\n",
       "    <tr>\n",
       "      <th>...</th>\n",
       "      <td>...</td>\n",
       "      <td>...</td>\n",
       "      <td>...</td>\n",
       "      <td>...</td>\n",
       "      <td>...</td>\n",
       "      <td>...</td>\n",
       "      <td>...</td>\n",
       "      <td>...</td>\n",
       "      <td>...</td>\n",
       "      <td>...</td>\n",
       "      <td>...</td>\n",
       "      <td>...</td>\n",
       "    </tr>\n",
       "    <tr>\n",
       "      <th>413</th>\n",
       "      <td>1305</td>\n",
       "      <td>0</td>\n",
       "      <td>3</td>\n",
       "      <td>Spector, Mr. Woolf</td>\n",
       "      <td>male</td>\n",
       "      <td>NaN</td>\n",
       "      <td>0</td>\n",
       "      <td>0</td>\n",
       "      <td>A.5. 3236</td>\n",
       "      <td>8.0500</td>\n",
       "      <td>NaN</td>\n",
       "      <td>S</td>\n",
       "    </tr>\n",
       "    <tr>\n",
       "      <th>414</th>\n",
       "      <td>1306</td>\n",
       "      <td>1</td>\n",
       "      <td>1</td>\n",
       "      <td>Oliva y Ocana, Dona. Fermina</td>\n",
       "      <td>female</td>\n",
       "      <td>39.0</td>\n",
       "      <td>0</td>\n",
       "      <td>0</td>\n",
       "      <td>PC 17758</td>\n",
       "      <td>108.9000</td>\n",
       "      <td>C105</td>\n",
       "      <td>C</td>\n",
       "    </tr>\n",
       "    <tr>\n",
       "      <th>415</th>\n",
       "      <td>1307</td>\n",
       "      <td>0</td>\n",
       "      <td>3</td>\n",
       "      <td>Saether, Mr. Simon Sivertsen</td>\n",
       "      <td>male</td>\n",
       "      <td>38.5</td>\n",
       "      <td>0</td>\n",
       "      <td>0</td>\n",
       "      <td>SOTON/O.Q. 3101262</td>\n",
       "      <td>7.2500</td>\n",
       "      <td>NaN</td>\n",
       "      <td>S</td>\n",
       "    </tr>\n",
       "    <tr>\n",
       "      <th>416</th>\n",
       "      <td>1308</td>\n",
       "      <td>0</td>\n",
       "      <td>3</td>\n",
       "      <td>Ware, Mr. Frederick</td>\n",
       "      <td>male</td>\n",
       "      <td>NaN</td>\n",
       "      <td>0</td>\n",
       "      <td>0</td>\n",
       "      <td>359309</td>\n",
       "      <td>8.0500</td>\n",
       "      <td>NaN</td>\n",
       "      <td>S</td>\n",
       "    </tr>\n",
       "    <tr>\n",
       "      <th>417</th>\n",
       "      <td>1309</td>\n",
       "      <td>0</td>\n",
       "      <td>3</td>\n",
       "      <td>Peter, Master. Michael J</td>\n",
       "      <td>male</td>\n",
       "      <td>NaN</td>\n",
       "      <td>1</td>\n",
       "      <td>1</td>\n",
       "      <td>2668</td>\n",
       "      <td>22.3583</td>\n",
       "      <td>NaN</td>\n",
       "      <td>C</td>\n",
       "    </tr>\n",
       "  </tbody>\n",
       "</table>\n",
       "<p>418 rows × 12 columns</p>\n",
       "</div>"
      ],
      "text/plain": [
       "     PassengerId  Survived  Pclass  \\\n",
       "0            892         0       3   \n",
       "1            893         1       3   \n",
       "2            894         0       2   \n",
       "3            895         0       3   \n",
       "4            896         1       3   \n",
       "..           ...       ...     ...   \n",
       "413         1305         0       3   \n",
       "414         1306         1       1   \n",
       "415         1307         0       3   \n",
       "416         1308         0       3   \n",
       "417         1309         0       3   \n",
       "\n",
       "                                             Name     Sex   Age  SibSp  Parch  \\\n",
       "0                                Kelly, Mr. James    male  34.5      0      0   \n",
       "1                Wilkes, Mrs. James (Ellen Needs)  female  47.0      1      0   \n",
       "2                       Myles, Mr. Thomas Francis    male  62.0      0      0   \n",
       "3                                Wirz, Mr. Albert    male  27.0      0      0   \n",
       "4    Hirvonen, Mrs. Alexander (Helga E Lindqvist)  female  22.0      1      1   \n",
       "..                                            ...     ...   ...    ...    ...   \n",
       "413                            Spector, Mr. Woolf    male   NaN      0      0   \n",
       "414                  Oliva y Ocana, Dona. Fermina  female  39.0      0      0   \n",
       "415                  Saether, Mr. Simon Sivertsen    male  38.5      0      0   \n",
       "416                           Ware, Mr. Frederick    male   NaN      0      0   \n",
       "417                      Peter, Master. Michael J    male   NaN      1      1   \n",
       "\n",
       "                 Ticket      Fare Cabin Embarked  \n",
       "0                330911    7.8292   NaN        Q  \n",
       "1                363272    7.0000   NaN        S  \n",
       "2                240276    9.6875   NaN        Q  \n",
       "3                315154    8.6625   NaN        S  \n",
       "4               3101298   12.2875   NaN        S  \n",
       "..                  ...       ...   ...      ...  \n",
       "413           A.5. 3236    8.0500   NaN        S  \n",
       "414            PC 17758  108.9000  C105        C  \n",
       "415  SOTON/O.Q. 3101262    7.2500   NaN        S  \n",
       "416              359309    8.0500   NaN        S  \n",
       "417                2668   22.3583   NaN        C  \n",
       "\n",
       "[418 rows x 12 columns]"
      ]
     },
     "execution_count": 247,
     "metadata": {},
     "output_type": "execute_result"
    }
   ],
   "source": [
    "df"
   ]
  },
  {
   "cell_type": "markdown",
   "metadata": {},
   "source": [
    "1. <u> จัดทำโดย </u>\n",
    "</br>\n",
    "</br>\n",
    "6610402175 ฟาร์ฮาน่า มาเหล็ม หมู่ 1\n",
    "</br>\n",
    "6610405930 เบญญภา ประคุณหังสิต หมู่ 1\n",
    "</br>\n",
    "6610405972 พัทธนันท์ ขันตี หมู่ 1"
   ]
  },
  {
   "cell_type": "markdown",
   "metadata": {},
   "source": [
    "2. แหล่งที่มา https://www.kaggle.com/datasets/brendan45774/test-file"
   ]
  },
  {
   "cell_type": "markdown",
   "metadata": {},
   "source": [
    "3. แหล่งข้อมูลหลักเกี่ยวกับผู้โดยสารไททานิคมาจาก **Encyclopedia Titanica** โดยชุดข้อมูลที่ถูกใช้มาจากการรวบรวมโดยนักวิจัยหลายคน หนึ่งในแหล่งข้อมูลดั้งเดิมคือหนังสือ *\"Titanic: Triumph and Tragedy\" โดย Eaton & Haas (1994) Patrick Stephens Ltd และเรียบเรียงโดย Michael A. Findlay*"
   ]
  },
  {
   "cell_type": "markdown",
   "metadata": {},
   "source": [
    "4. ชุดข้อมูล Titanic Datasets จัดเก็บในรูปแบบดังนี้\n",
    "\n",
    "|Format|Binary/Text| Human-Readable|\n",
    "|-----|----|----|\n",
    "|CSV|Text|Yes|"
   ]
  },
  {
   "cell_type": "markdown",
   "metadata": {},
   "source": [
    "5. ชุดข้อมูล Titanic Datasets โดยข้อมูลแต่ละแถว คือ ข้อมูลรายบุคคลจำนวน 418 บุคคล และข้อมุลแต่ละหลัก คือ คุณลักษณะของผู้โดยสาร 12 คุณลักษณะ"
   ]
  },
  {
   "cell_type": "markdown",
   "metadata": {},
   "source": [
    "6. สิ่งที่ต้องการทำนายจากการศึกษาชุดข้อมูลนี้ คือ ศึกษาโอกาสในการรอดชีวิตของผู้ใช้งาน โดยใช้กรณีศึกษาที่ได้จากข้อมูลผู้โดยสารบนเรือไททานิก"
   ]
  },
  {
   "cell_type": "markdown",
   "metadata": {},
   "source": [
    "7. สิ่งที่ใช้ในการทำนาย คือ Survived, Pclass, Sex, Age, Sibsp, Parch และ Cabin เพราะเป็นข้อมูลเชิงปริมาณ สามารถนำมาคำนวณเพื่อหาโอกาสในการรอดชีวิตของผู้ใช้งาน "
   ]
  },
  {
   "cell_type": "markdown",
   "metadata": {},
   "source": [
    "| ตัวแปร  | ความหมาย |ค่าประจำตัวแปร |\n",
    "| ------------- | ------------- | ------------- |\n",
    "| Survived |จำนวนผู้รอดชีวิต | 0 = เสียชีวิต, 1 = รอดชีวิต |\n",
    "| Pclass | ชั้นโดยสาร 1st = ระดับสูง, 2nd = ระดับกลาง, 3rd = ระดับต่ำ |  |\n",
    "| Fare | ค่าบัตรโดยสารของชั้นโดยสารแต่ละชั้น |  \n",
    "| Sex | เพศสภาพ |  |\n",
    "| Age | อายุ (ปี) หากน้อยกว่า 1 หากอายุถูกประเมินให้ใช้รูปแบบ xx.5 |  |\n",
    "| Sibsp | จำนวนพี่น้อง / คู่สมรส, พี่น้อง = พี่น้อง, พี่เลี้ยง, น้องเลี้ยง คู่สมรส = สามี, ภรรยา (โดยไม่รวมถึงชู้สาวและคู่หมั้น) | |\n",
    "| Parch | จำนวนบิดามารดา / บุตร, บิดามารดา = แม่, พ่อ บุตร = ลูกสาว, ลูกชาย, บุตรสาวเลี้ยง, บุตรชายเลี้ยง (หากระบุไว้ว่าเดินทางคนเดียวกับพี่เลี้ยง ดังนั้น ไม่มีข้อมูล parch สำหรับพวกเขา)|  |\n",
    "| Cabin | หมายเลขห้องพัก |  |\n",
    "\n"
   ]
  },
  {
   "cell_type": "markdown",
   "metadata": {},
   "source": [
    "8. ในการจัดเตรียมข้อมูลต้องตัดข้อมูล NaN ออก สามารถทำได้โดย\n",
    "```\n",
    "df = df.dropna()\n",
    "df\n",
    "```"
   ]
  },
  {
   "cell_type": "markdown",
   "metadata": {},
   "source": [
    "9. ข้อมูลที่ไม่น่าจะได้ใช้ในระบบต้นแบบ คือ Name, Fare, Embarked และ PassengerId เพราะเป็นข้อมูลเชิงคุณภาพ ทำให้ไม่สามารถนำมาคำนวณได้"
   ]
  },
  {
   "cell_type": "markdown",
   "metadata": {},
   "source": [
    "| ตัวแปร  | ความหมาย |\n",
    "| ------------- | ------------- | \n",
    "| Name | ชื่อ |  \n",
    "| Embarked | ท่าเรือที่ผู้โดยสารขึ้นเรือ| \n",
    "| PassengerId | หมายเลขประจำตัวผู้โดยสาร| "
   ]
  },
  {
   "cell_type": "markdown",
   "metadata": {},
   "source": [
    "10. ข้อมูลชุดนี้ไม่ควรนำไปจัดเก็บในรูปแบบอื่นเนื่องจากการจัดเก็บข้อมูลในรูปแบบตารางจะทำให้ง่ายต่อการอ่านและสรุปข้อมูล"
   ]
  },
  {
   "cell_type": "markdown",
   "metadata": {},
   "source": [
    "11. ประเด็นอื่นๆ ที่เกี่ยวข้องกับข้อมูล : เนื่องจากข้อมูลชนิดนี้มีการเผยแพร่จากหลากหลายแหล่งข้อมูล"
   ]
  },
  {
   "cell_type": "markdown",
   "metadata": {},
   "source": [
    "12. การมีส่วนร่วมของสมาชิกในกลุ่ม : เยี่ยมจริงๆๆ"
   ]
  },
  {
   "cell_type": "markdown",
   "metadata": {},
   "source": [
    "13. การเปิดเผยการใช้เครื่องมือปัญญาประดิษฐ์ : -"
   ]
  }
 ],
 "metadata": {
  "kernelspec": {
   "display_name": ".venv",
   "language": "python",
   "name": "python3"
  },
  "language_info": {
   "codemirror_mode": {
    "name": "ipython",
    "version": 3
   },
   "file_extension": ".py",
   "mimetype": "text/x-python",
   "name": "python",
   "nbconvert_exporter": "python",
   "pygments_lexer": "ipython3",
   "version": "3.10.11"
  }
 },
 "nbformat": 4,
 "nbformat_minor": 2
}
