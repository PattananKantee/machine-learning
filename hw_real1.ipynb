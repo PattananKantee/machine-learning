{
 "cells": [
  {
   "cell_type": "code",
   "execution_count": 102,
   "metadata": {},
   "outputs": [
    {
     "name": "stdout",
     "output_type": "stream",
     "text": [
      "Requirement already satisfied: pandas in ./.venv/lib/python3.10/site-packages (2.2.2)\n",
      "Requirement already satisfied: numpy>=1.22.4 in ./.venv/lib/python3.10/site-packages (from pandas) (1.26.4)\n",
      "Requirement already satisfied: python-dateutil>=2.8.2 in ./.venv/lib/python3.10/site-packages (from pandas) (2.9.0.post0)\n",
      "Requirement already satisfied: pytz>=2020.1 in ./.venv/lib/python3.10/site-packages (from pandas) (2024.1)\n",
      "Requirement already satisfied: tzdata>=2022.7 in ./.venv/lib/python3.10/site-packages (from pandas) (2024.1)\n",
      "Requirement already satisfied: six>=1.5 in ./.venv/lib/python3.10/site-packages (from python-dateutil>=2.8.2->pandas) (1.16.0)\n",
      "Note: you may need to restart the kernel to use updated packages.\n"
     ]
    }
   ],
   "source": [
    "pip install pandas"
   ]
  },
  {
   "cell_type": "code",
   "execution_count": 103,
   "metadata": {},
   "outputs": [],
   "source": [
    "import pandas as pd"
   ]
  },
  {
   "cell_type": "code",
   "execution_count": 104,
   "metadata": {},
   "outputs": [
    {
     "data": {
      "text/html": [
       "<div>\n",
       "<style scoped>\n",
       "    .dataframe tbody tr th:only-of-type {\n",
       "        vertical-align: middle;\n",
       "    }\n",
       "\n",
       "    .dataframe tbody tr th {\n",
       "        vertical-align: top;\n",
       "    }\n",
       "\n",
       "    .dataframe thead th {\n",
       "        text-align: right;\n",
       "    }\n",
       "</style>\n",
       "<table border=\"1\" class=\"dataframe\">\n",
       "  <thead>\n",
       "    <tr style=\"text-align: right;\">\n",
       "      <th></th>\n",
       "      <th>Sr No</th>\n",
       "      <th>Image File</th>\n",
       "      <th>Caption</th>\n",
       "    </tr>\n",
       "  </thead>\n",
       "  <tbody>\n",
       "    <tr>\n",
       "      <th>0</th>\n",
       "      <td>1</td>\n",
       "      <td>img/insta1</td>\n",
       "      <td>NaN</td>\n",
       "    </tr>\n",
       "    <tr>\n",
       "      <th>1</th>\n",
       "      <td>2</td>\n",
       "      <td>img/insta2</td>\n",
       "      <td>bye</td>\n",
       "    </tr>\n",
       "    <tr>\n",
       "      <th>2</th>\n",
       "      <td>3</td>\n",
       "      <td>img/insta3</td>\n",
       "      <td>Ok, a few more... sorry I just had so much fun...</td>\n",
       "    </tr>\n",
       "    <tr>\n",
       "      <th>3</th>\n",
       "      <td>4</td>\n",
       "      <td>img/insta4</td>\n",
       "      <td>This was one of my favorite shoots I’ve ever d...</td>\n",
       "    </tr>\n",
       "    <tr>\n",
       "      <th>4</th>\n",
       "      <td>5</td>\n",
       "      <td>img/insta5</td>\n",
       "      <td>Wrapped round my finger like a ring</td>\n",
       "    </tr>\n",
       "    <tr>\n",
       "      <th>...</th>\n",
       "      <td>...</td>\n",
       "      <td>...</td>\n",
       "      <td>...</td>\n",
       "    </tr>\n",
       "    <tr>\n",
       "      <th>20510</th>\n",
       "      <td>20511</td>\n",
       "      <td>img/insta20511</td>\n",
       "      <td>Cowgirl :)</td>\n",
       "    </tr>\n",
       "    <tr>\n",
       "      <th>20511</th>\n",
       "      <td>20512</td>\n",
       "      <td>img/insta20512</td>\n",
       "      <td>&lt;3</td>\n",
       "    </tr>\n",
       "    <tr>\n",
       "      <th>20512</th>\n",
       "      <td>20513</td>\n",
       "      <td>img/insta20513</td>\n",
       "      <td>I love me and Kylie's nail polish colors!</td>\n",
       "    </tr>\n",
       "    <tr>\n",
       "      <th>20513</th>\n",
       "      <td>20514</td>\n",
       "      <td>img/insta20514</td>\n",
       "      <td>Fammm</td>\n",
       "    </tr>\n",
       "    <tr>\n",
       "      <th>20514</th>\n",
       "      <td>20515</td>\n",
       "      <td>img/insta20515</td>\n",
       "      <td>Disneyland!</td>\n",
       "    </tr>\n",
       "  </tbody>\n",
       "</table>\n",
       "<p>20515 rows × 3 columns</p>\n",
       "</div>"
      ],
      "text/plain": [
       "       Sr No      Image File  \\\n",
       "0          1      img/insta1   \n",
       "1          2      img/insta2   \n",
       "2          3      img/insta3   \n",
       "3          4      img/insta4   \n",
       "4          5      img/insta5   \n",
       "...      ...             ...   \n",
       "20510  20511  img/insta20511   \n",
       "20511  20512  img/insta20512   \n",
       "20512  20513  img/insta20513   \n",
       "20513  20514  img/insta20514   \n",
       "20514  20515  img/insta20515   \n",
       "\n",
       "                                                 Caption  \n",
       "0                                                    NaN  \n",
       "1                                                   bye   \n",
       "2      Ok, a few more... sorry I just had so much fun...  \n",
       "3      This was one of my favorite shoots I’ve ever d...  \n",
       "4                   Wrapped round my finger like a ring   \n",
       "...                                                  ...  \n",
       "20510                                        Cowgirl :)   \n",
       "20511                                                <3   \n",
       "20512         I love me and Kylie's nail polish colors!   \n",
       "20513                                             Fammm   \n",
       "20514                                       Disneyland!   \n",
       "\n",
       "[20515 rows x 3 columns]"
      ]
     },
     "execution_count": 104,
     "metadata": {},
     "output_type": "execute_result"
    }
   ],
   "source": [
    "df = pd.read_csv(\"captions_csv.csv\")\n",
    "df"
   ]
  },
  {
   "cell_type": "code",
   "execution_count": 105,
   "metadata": {},
   "outputs": [
    {
     "data": {
      "text/html": [
       "<div>\n",
       "<style scoped>\n",
       "    .dataframe tbody tr th:only-of-type {\n",
       "        vertical-align: middle;\n",
       "    }\n",
       "\n",
       "    .dataframe tbody tr th {\n",
       "        vertical-align: top;\n",
       "    }\n",
       "\n",
       "    .dataframe thead th {\n",
       "        text-align: right;\n",
       "    }\n",
       "</style>\n",
       "<table border=\"1\" class=\"dataframe\">\n",
       "  <thead>\n",
       "    <tr style=\"text-align: right;\">\n",
       "      <th></th>\n",
       "      <th>20516</th>\n",
       "      <th>img2/insta20516</th>\n",
       "      <th>wHaT dAy Is It Even #stayhomeclub</th>\n",
       "    </tr>\n",
       "  </thead>\n",
       "  <tbody>\n",
       "    <tr>\n",
       "      <th>0</th>\n",
       "      <td>20517</td>\n",
       "      <td>img2/insta20517</td>\n",
       "      <td>Vitamin C for your fashion diet #KatyPursey #S...</td>\n",
       "    </tr>\n",
       "    <tr>\n",
       "      <th>1</th>\n",
       "      <td>20518</td>\n",
       "      <td>img2/insta20518</td>\n",
       "      <td>do you know the hotter the fire the purer the ...</td>\n",
       "    </tr>\n",
       "    <tr>\n",
       "      <th>2</th>\n",
       "      <td>20519</td>\n",
       "      <td>img2/insta20519</td>\n",
       "      <td>@ryanseacrest 👍🏻</td>\n",
       "    </tr>\n",
       "    <tr>\n",
       "      <th>3</th>\n",
       "      <td>20520</td>\n",
       "      <td>img2/insta20520</td>\n",
       "      <td>working hard or hardly working idk 🤷🏼‍♀️</td>\n",
       "    </tr>\n",
       "    <tr>\n",
       "      <th>4</th>\n",
       "      <td>20521</td>\n",
       "      <td>img2/insta20521</td>\n",
       "      <td>Step into your destiny with The Bondie 🔮✨ #Sho...</td>\n",
       "    </tr>\n",
       "    <tr>\n",
       "      <th>...</th>\n",
       "      <td>...</td>\n",
       "      <td>...</td>\n",
       "      <td>...</td>\n",
       "    </tr>\n",
       "    <tr>\n",
       "      <th>14406</th>\n",
       "      <td>34923</td>\n",
       "      <td>img2/insta34923</td>\n",
       "      <td>Mexican vegan pizza I made from scratch. Meat ...</td>\n",
       "    </tr>\n",
       "    <tr>\n",
       "      <th>14407</th>\n",
       "      <td>34924</td>\n",
       "      <td>img2/insta34924</td>\n",
       "      <td>Hummm....Can u spot the error?</td>\n",
       "    </tr>\n",
       "    <tr>\n",
       "      <th>14408</th>\n",
       "      <td>34925</td>\n",
       "      <td>img2/insta34925</td>\n",
       "      <td>Snuggling with the dry cleaning</td>\n",
       "    </tr>\n",
       "    <tr>\n",
       "      <th>14409</th>\n",
       "      <td>34926</td>\n",
       "      <td>img2/insta34926</td>\n",
       "      <td>Morning practice</td>\n",
       "    </tr>\n",
       "    <tr>\n",
       "      <th>14410</th>\n",
       "      <td>34927</td>\n",
       "      <td>img2/insta34927</td>\n",
       "      <td>Up up and away!!!</td>\n",
       "    </tr>\n",
       "  </tbody>\n",
       "</table>\n",
       "<p>14411 rows × 3 columns</p>\n",
       "</div>"
      ],
      "text/plain": [
       "       20516  img2/insta20516  \\\n",
       "0      20517  img2/insta20517   \n",
       "1      20518  img2/insta20518   \n",
       "2      20519  img2/insta20519   \n",
       "3      20520  img2/insta20520   \n",
       "4      20521  img2/insta20521   \n",
       "...      ...              ...   \n",
       "14406  34923  img2/insta34923   \n",
       "14407  34924  img2/insta34924   \n",
       "14408  34925  img2/insta34925   \n",
       "14409  34926  img2/insta34926   \n",
       "14410  34927  img2/insta34927   \n",
       "\n",
       "                       wHaT dAy Is It Even #stayhomeclub  \n",
       "0      Vitamin C for your fashion diet #KatyPursey #S...  \n",
       "1      do you know the hotter the fire the purer the ...  \n",
       "2                                       @ryanseacrest 👍🏻  \n",
       "3               working hard or hardly working idk 🤷🏼‍♀️  \n",
       "4      Step into your destiny with The Bondie 🔮✨ #Sho...  \n",
       "...                                                  ...  \n",
       "14406  Mexican vegan pizza I made from scratch. Meat ...  \n",
       "14407                    Hummm....Can u spot the error?   \n",
       "14408                    Snuggling with the dry cleaning  \n",
       "14409                                  Morning practice   \n",
       "14410                                  Up up and away!!!  \n",
       "\n",
       "[14411 rows x 3 columns]"
      ]
     },
     "execution_count": 105,
     "metadata": {},
     "output_type": "execute_result"
    }
   ],
   "source": [
    "cf = pd.read_csv(\"captions_csv2.csv\")\n",
    "cf"
   ]
  },
  {
   "cell_type": "code",
   "execution_count": 106,
   "metadata": {},
   "outputs": [
    {
     "name": "stdout",
     "output_type": "stream",
     "text": [
      "Collecting git+https://github.com/huggingface/transformers.git\n",
      "  Cloning https://github.com/huggingface/transformers.git to /private/var/folders/r0/9brhjn911d79nb9n6r_j73t80000gp/T/pip-req-build-px7w5rgq\n",
      "  Running command git clone --filter=blob:none --quiet https://github.com/huggingface/transformers.git /private/var/folders/r0/9brhjn911d79nb9n6r_j73t80000gp/T/pip-req-build-px7w5rgq\n",
      "^C\n",
      "\u001b[31mERROR: Operation cancelled by user\u001b[0m\u001b[31m\n",
      "\u001b[0m"
     ]
    }
   ],
   "source": [
    "! pip install git+https://github.com/huggingface/transformers.git accelerate datasets"
   ]
  },
  {
   "cell_type": "code",
   "execution_count": null,
   "metadata": {},
   "outputs": [],
   "source": [
    "from datasets import load_dataset\n",
    "\n",
    "ds = load_dataset(\"mrSoul7766/instagram_post_captions\")"
   ]
  },
  {
   "cell_type": "code",
   "execution_count": null,
   "metadata": {},
   "outputs": [
    {
     "data": {
      "text/plain": [
       "DatasetDict({\n",
       "    train: Dataset({\n",
       "        features: ['image', 'caption'],\n",
       "        num_rows: 30191\n",
       "    })\n",
       "})"
      ]
     },
     "execution_count": 99,
     "metadata": {},
     "output_type": "execute_result"
    }
   ],
   "source": [
    "ds"
   ]
  },
  {
   "cell_type": "code",
   "execution_count": null,
   "metadata": {},
   "outputs": [],
   "source": [
    "from datasets import load_dataset\n",
    "\n",
    "da = load_dataset(\"kkcosmos/instagram-images-with-captions\")"
   ]
  },
  {
   "cell_type": "code",
   "execution_count": null,
   "metadata": {},
   "outputs": [
    {
     "data": {
      "text/plain": [
       "DatasetDict({\n",
       "    train: Dataset({\n",
       "        features: ['image', 'item_id', 'image_path', 'caption'],\n",
       "        num_rows: 28360\n",
       "    })\n",
       "    test: Dataset({\n",
       "        features: ['image', 'item_id', 'image_path', 'caption'],\n",
       "        num_rows: 3152\n",
       "    })\n",
       "})"
      ]
     },
     "execution_count": 101,
     "metadata": {},
     "output_type": "execute_result"
    }
   ],
   "source": [
    "da"
   ]
  },
  {
   "cell_type": "markdown",
   "metadata": {},
   "source": [
    "# Instagram Images with Captions Datasets #\n",
    "\n",
    "โครงการนี้เป็นการสร้างโมเดล Machine Learning ที่ใช้ในการสร้างแคปชั่น (captions) สำหรับรูปภาพที่ผู้ใช้อัปโหลดบน Instagram โดยอาศัยชุดข้อมูล Instagram Images with Captions Datasets ที่มีอยู่เป็นฐานข้อมูลหลัก\n",
    "\n",
    "การทำโมเดลนี้มีวัตถุประสงค์เพื่อช่วยให้ผู้ใช้งานอินเทอร์เน็ตที่ต้องการอัปโหลดรูปภาพลง Instagram สามารถสร้างแคปชั่นได้โดยง่ายและมีคุณภาพ โดยทำให้เพิ่มประสิทธิภาพในการจัดการเนื้อหาและเพิ่มความน่าสนใจให้กับรูปภาพที่ถูกโพสต์\n",
    "\n",
    "    "
   ]
  },
  {
   "cell_type": "markdown",
   "metadata": {},
   "source": [
    "1. <u> จัดทำโดย </u>\n",
    "</br>\n",
    "</br>\n",
    "6610402175 ฟาร์ฮาน่า มาเหล็ม หมู่ 1\n",
    "</br>\n",
    "6610405930 เบญญภา ประคุณหังสิต หมู่ 1\n",
    "</br>\n",
    "6610405972 พัทธนันท์ ขันตี หมู่ 1"
   ]
  },
  {
   "cell_type": "markdown",
   "metadata": {},
   "source": [
    "2. แหล่งที่มา (1) : https://www.kaggle.com/datasets/prithvijaunjale/instagram-images-with-captions?resource=download\n",
    "</br>\n",
    "แหล่งที่มา (2) : https://huggingface.co/datasets/mrSoul7766/instagram_post_captions?source=post_page-----7f9b9f938794--------------------------------\n",
    "</br>\n",
    "แหล่งที่มา (3) : https://huggingface.co/datasets/kkcosmos/instagram-images-with-captions"
   ]
  },
  {
   "cell_type": "markdown",
   "metadata": {},
   "source": [
    "3. ข้อมูลชุดนี้จัดเก็บมาจากผู้ใช้ในแอปพลิเคชันอินสตาแกรม"
   ]
  },
  {
   "cell_type": "markdown",
   "metadata": {},
   "source": [
    "4. ชุดข้อมูล Instagram Images with Captions จัดเก็บในรูปแบบดังนี้\n",
    "\n",
    "|Format|Binary/Text| Human-Readable|\n",
    "|-----|----|----|\n",
    "|CSV|Binary and Text|images(binary) = No, texts = Yes|"
   ]
  },
  {
   "cell_type": "markdown",
   "metadata": {},
   "source": [
    "5. ชุดข้อมูล Instagram Images with Captions Datasets โดยข้อมูลทั้งหมดมีจำนวน 96629 แคปชั่น\n",
    "\n",
    "| แหล่งข้อมูล | จำนวนข้อมูล|\n",
    "|----------|----------|\n",
    "| https://www.kaggle.com/datasets/prithvijaunjale/instagram-images-with-captions?resource=download | 34926|\n",
    "| https://huggingface.co/datasets/mrSoul7766/instagram_post_captions?source=post_page-----7f9b9f938794--------------------------------| 30191|\n",
    "|https://huggingface.co/datasets/kkcosmos/instagram-images-with-captions | 31512|\n"
   ]
  },
  {
   "cell_type": "markdown",
   "metadata": {},
   "source": [
    "6. สิ่งที่ต้องการทำนายจากการศึกษาชุดข้อมูลนี้ คือ การทำนายแคปชั่นเพื่อโพสต์ลงโซเชียลมีเดีย โดยวิเคราะห์จากข้อมูลที่ศึกษาได้ในชุดข้อมูล"
   ]
  },
  {
   "cell_type": "markdown",
   "metadata": {},
   "source": [
    "7. สิ่งใช้ในการทำนาย คือ รูปภาพในชุดข้อมูลและแคปชั่นที่เกี่ยวข้องกับรูปภาพนั้นๆ"
   ]
  },
  {
   "cell_type": "markdown",
   "metadata": {},
   "source": [
    "8. ในการจัดเตรียมจะมีดังนี้\n",
    "</br>\n",
    "\n",
    "- รวมชุดข้อมูลจากทั้งหมดเข้าด้วยกันไว้ในไฟล์เดียว\n",
    "</br>\n",
    "\n",
    "- การเตรียมภาพและข้อมูล: การประมวลผลภาพเพื่อให้เหมาะสมกับการนำเข้าโมเดล\n"
   ]
  },
  {
   "cell_type": "markdown",
   "metadata": {},
   "source": [
    "9. ข้อมูลที่ไม่น่าจะได้ใช้ในระบบต้นแบบ คือ คอลัมน์ Sr No "
   ]
  },
  {
   "cell_type": "markdown",
   "metadata": {},
   "source": [
    "10. ข้อมูลชุดนี้ไม่ควรนำไปจัดเก็บในรูปแบบอื่นเนื่องจากการจัดเก็บข้อมูลในรูปแบบนี้จะทำให้ง่ายต่อการอ่านและสรุปข้อมูล"
   ]
  },
  {
   "cell_type": "markdown",
   "metadata": {},
   "source": [
    "11. ประเด็นอื่นๆ ที่เกี่ยวข้องกับข้อมูล : เนื่องจากมีข้อมูลรูปภาพที่สามารถระบุถึงบุคคลได้ จึงจำเป็นต้องตระหนักถึงจริยธรรมในการใช้ข้อมูลเพื่อนำไปศึกษา, จากชุดข้อมูลเราไม่สามารถทราบได้ว่ารูปภาพนั้นได้รับการยินยอมให้นำมาใช้เพื่อการศึกษาหรือไม่"
   ]
  },
  {
   "cell_type": "markdown",
   "metadata": {},
   "source": [
    "12. การมีส่วนร่วมของสมาชิกในกลุ่ม \n",
    "</br>\n",
    "\n",
    "\n",
    "6610402175 ฟาร์ฮาน่า มาเหล็ม หมู่ 1\n",
    "- ค้นหาข้อมูลและวิเคราะห์\n",
    "\n",
    "6610405930 เบญญภา ประคุณหังสิต หมู่ 1\n",
    "- ค้นหาข้อมูลและวิเคราะห์\n",
    "\n",
    "6610405972 พัทธนันท์ ขันตี หมู่ 1\n",
    "- จัดทำ เรียบเรียง และสรุปข้อมูล\n"
   ]
  },
  {
   "cell_type": "markdown",
   "metadata": {},
   "source": [
    "13. การเปิดเผยการใช้เครื่องมือปัญญาประดิษฐ์ : ใช้ ChatGPT ในการเรียบเรียงข้อมูล"
   ]
  }
 ],
 "metadata": {
  "kernelspec": {
   "display_name": ".venv",
   "language": "python",
   "name": "python3"
  },
  "language_info": {
   "codemirror_mode": {
    "name": "ipython",
    "version": 3
   },
   "file_extension": ".py",
   "mimetype": "text/x-python",
   "name": "python",
   "nbconvert_exporter": "python",
   "pygments_lexer": "ipython3",
   "version": "3.10.11"
  }
 },
 "nbformat": 4,
 "nbformat_minor": 2
}
